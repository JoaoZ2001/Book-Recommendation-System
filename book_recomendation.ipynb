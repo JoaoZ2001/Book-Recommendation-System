{
 "cells": [
  {
   "cell_type": "markdown",
   "id": "57d12c01-027e-4351-9d74-a9edee7b0343",
   "metadata": {},
   "source": [
    "### <font color='red'>Objetivo do Projeto: Criar um Algoritmo de ML para Recomendação de Livros</font>"
   ]
  },
  {
   "cell_type": "markdown",
   "id": "5ef14171",
   "metadata": {},
   "source": [
    "Link dataset: https://www.kaggle.com/datasets/ishikajohari/best-books-10k-multi-genre-data"
   ]
  },
  {
   "cell_type": "code",
   "execution_count": 1,
   "id": "77cb15a1-da3e-49a0-b0ca-4a11e0d64c0e",
   "metadata": {},
   "outputs": [],
   "source": [
    "# Importação dos pacotes\n",
    "import pandas as pd\n",
    "import numpy as np\n",
    "import sklearn\n",
    "import numpy as np\n",
    "import pandas as pd\n",
    "from langdetect import detect\n",
    "from ast import literal_eval\n",
    "from nltk.stem.porter import PorterStemmer\n",
    "from sklearn.feature_extraction.text import CountVectorizer\n",
    "from sklearn.metrics.pairwise import cosine_similarity\n",
    "import streamlit as st\n",
    "import ipywidgets as widgets\n",
    "from IPython.display import display\n",
    "pd.options.mode.chained_assignment = None"
   ]
  },
  {
   "cell_type": "markdown",
   "id": "ffd65343-f5c2-4de3-a102-7e8479d6c911",
   "metadata": {},
   "source": [
    "### <font color='red'>Parte 1: Exploração e Limpeza dos Dados</font>"
   ]
  },
  {
   "cell_type": "code",
   "execution_count": 2,
   "id": "73f0bf64-8d22-4050-a9f6-a1c918b76ff9",
   "metadata": {},
   "outputs": [],
   "source": [
    "# Importando dados\n",
    "df = pd.read_csv('data.csv')"
   ]
  },
  {
   "cell_type": "code",
   "execution_count": 3,
   "id": "45388b28-4989-4e8b-b7a2-b176e23b8397",
   "metadata": {},
   "outputs": [
    {
     "data": {
      "text/html": [
       "<div>\n",
       "<style scoped>\n",
       "    .dataframe tbody tr th:only-of-type {\n",
       "        vertical-align: middle;\n",
       "    }\n",
       "\n",
       "    .dataframe tbody tr th {\n",
       "        vertical-align: top;\n",
       "    }\n",
       "\n",
       "    .dataframe thead th {\n",
       "        text-align: right;\n",
       "    }\n",
       "</style>\n",
       "<table border=\"1\" class=\"dataframe\">\n",
       "  <thead>\n",
       "    <tr style=\"text-align: right;\">\n",
       "      <th></th>\n",
       "      <th>Unnamed: 0</th>\n",
       "      <th>Book</th>\n",
       "      <th>Author</th>\n",
       "      <th>Description</th>\n",
       "      <th>Genres</th>\n",
       "      <th>Avg_Rating</th>\n",
       "      <th>Num_Ratings</th>\n",
       "      <th>URL</th>\n",
       "    </tr>\n",
       "  </thead>\n",
       "  <tbody>\n",
       "    <tr>\n",
       "      <th>0</th>\n",
       "      <td>0</td>\n",
       "      <td>To Kill a Mockingbird</td>\n",
       "      <td>Harper Lee</td>\n",
       "      <td>The unforgettable novel of a childhood in a sl...</td>\n",
       "      <td>['Classics', 'Fiction', 'Historical Fiction', ...</td>\n",
       "      <td>4.27</td>\n",
       "      <td>5,691,311</td>\n",
       "      <td>https://www.goodreads.com/book/show/2657.To_Ki...</td>\n",
       "    </tr>\n",
       "    <tr>\n",
       "      <th>1</th>\n",
       "      <td>1</td>\n",
       "      <td>Harry Potter and the Philosopher’s Stone (Harr...</td>\n",
       "      <td>J.K. Rowling</td>\n",
       "      <td>Harry Potter thinks he is an ordinary boy - un...</td>\n",
       "      <td>['Fantasy', 'Fiction', 'Young Adult', 'Magic',...</td>\n",
       "      <td>4.47</td>\n",
       "      <td>9,278,135</td>\n",
       "      <td>https://www.goodreads.com/book/show/72193.Harr...</td>\n",
       "    </tr>\n",
       "    <tr>\n",
       "      <th>2</th>\n",
       "      <td>2</td>\n",
       "      <td>Pride and Prejudice</td>\n",
       "      <td>Jane Austen</td>\n",
       "      <td>Since its immediate success in 1813, Pride and...</td>\n",
       "      <td>['Classics', 'Fiction', 'Romance', 'Historical...</td>\n",
       "      <td>4.28</td>\n",
       "      <td>3,944,155</td>\n",
       "      <td>https://www.goodreads.com/book/show/1885.Pride...</td>\n",
       "    </tr>\n",
       "    <tr>\n",
       "      <th>3</th>\n",
       "      <td>3</td>\n",
       "      <td>The Diary of a Young Girl</td>\n",
       "      <td>Anne Frank</td>\n",
       "      <td>Discovered in the attic in which she spent the...</td>\n",
       "      <td>['Classics', 'Nonfiction', 'History', 'Biograp...</td>\n",
       "      <td>4.18</td>\n",
       "      <td>3,488,438</td>\n",
       "      <td>https://www.goodreads.com/book/show/48855.The_...</td>\n",
       "    </tr>\n",
       "    <tr>\n",
       "      <th>4</th>\n",
       "      <td>4</td>\n",
       "      <td>Animal Farm</td>\n",
       "      <td>George Orwell</td>\n",
       "      <td>Librarian's note: There is an Alternate Cover ...</td>\n",
       "      <td>['Classics', 'Fiction', 'Dystopia', 'Fantasy',...</td>\n",
       "      <td>3.98</td>\n",
       "      <td>3,575,172</td>\n",
       "      <td>https://www.goodreads.com/book/show/170448.Ani...</td>\n",
       "    </tr>\n",
       "  </tbody>\n",
       "</table>\n",
       "</div>"
      ],
      "text/plain": [
       "   Unnamed: 0                                               Book  \\\n",
       "0           0                              To Kill a Mockingbird   \n",
       "1           1  Harry Potter and the Philosopher’s Stone (Harr...   \n",
       "2           2                                Pride and Prejudice   \n",
       "3           3                          The Diary of a Young Girl   \n",
       "4           4                                        Animal Farm   \n",
       "\n",
       "          Author                                        Description  \\\n",
       "0     Harper Lee  The unforgettable novel of a childhood in a sl...   \n",
       "1   J.K. Rowling  Harry Potter thinks he is an ordinary boy - un...   \n",
       "2    Jane Austen  Since its immediate success in 1813, Pride and...   \n",
       "3     Anne Frank  Discovered in the attic in which she spent the...   \n",
       "4  George Orwell  Librarian's note: There is an Alternate Cover ...   \n",
       "\n",
       "                                              Genres  Avg_Rating Num_Ratings  \\\n",
       "0  ['Classics', 'Fiction', 'Historical Fiction', ...        4.27   5,691,311   \n",
       "1  ['Fantasy', 'Fiction', 'Young Adult', 'Magic',...        4.47   9,278,135   \n",
       "2  ['Classics', 'Fiction', 'Romance', 'Historical...        4.28   3,944,155   \n",
       "3  ['Classics', 'Nonfiction', 'History', 'Biograp...        4.18   3,488,438   \n",
       "4  ['Classics', 'Fiction', 'Dystopia', 'Fantasy',...        3.98   3,575,172   \n",
       "\n",
       "                                                 URL  \n",
       "0  https://www.goodreads.com/book/show/2657.To_Ki...  \n",
       "1  https://www.goodreads.com/book/show/72193.Harr...  \n",
       "2  https://www.goodreads.com/book/show/1885.Pride...  \n",
       "3  https://www.goodreads.com/book/show/48855.The_...  \n",
       "4  https://www.goodreads.com/book/show/170448.Ani...  "
      ]
     },
     "execution_count": 3,
     "metadata": {},
     "output_type": "execute_result"
    }
   ],
   "source": [
    "# Primeiros valores do dataset\n",
    "df.head(5)"
   ]
  },
  {
   "cell_type": "code",
   "execution_count": 4,
   "id": "6b60a466-59c1-48e0-8bac-b039e6da39fd",
   "metadata": {},
   "outputs": [
    {
     "data": {
      "text/plain": [
       "(10000, 8)"
      ]
     },
     "execution_count": 4,
     "metadata": {},
     "output_type": "execute_result"
    }
   ],
   "source": [
    "df.shape"
   ]
  },
  {
   "cell_type": "code",
   "execution_count": 5,
   "id": "9c5c5daa-363e-4dfa-a3c2-40664c18dc8f",
   "metadata": {},
   "outputs": [
    {
     "data": {
      "text/plain": [
       "Index(['Unnamed: 0', 'Book', 'Author', 'Description', 'Genres', 'Avg_Rating',\n",
       "       'Num_Ratings', 'URL'],\n",
       "      dtype='object')"
      ]
     },
     "execution_count": 5,
     "metadata": {},
     "output_type": "execute_result"
    }
   ],
   "source": [
    "# Verificando colunas\n",
    "df.columns"
   ]
  },
  {
   "cell_type": "code",
   "execution_count": 6,
   "id": "25ea3ae3-98fe-4088-ba95-81092e8be549",
   "metadata": {},
   "outputs": [
    {
     "data": {
      "text/html": [
       "<div>\n",
       "<style scoped>\n",
       "    .dataframe tbody tr th:only-of-type {\n",
       "        vertical-align: middle;\n",
       "    }\n",
       "\n",
       "    .dataframe tbody tr th {\n",
       "        vertical-align: top;\n",
       "    }\n",
       "\n",
       "    .dataframe thead th {\n",
       "        text-align: right;\n",
       "    }\n",
       "</style>\n",
       "<table border=\"1\" class=\"dataframe\">\n",
       "  <thead>\n",
       "    <tr style=\"text-align: right;\">\n",
       "      <th></th>\n",
       "      <th>Book</th>\n",
       "      <th>Author</th>\n",
       "      <th>Description</th>\n",
       "      <th>Genres</th>\n",
       "    </tr>\n",
       "  </thead>\n",
       "  <tbody>\n",
       "    <tr>\n",
       "      <th>1282</th>\n",
       "      <td>Survivor</td>\n",
       "      <td>Chuck Palahniuk</td>\n",
       "      <td>From the author of the underground sensation F...</td>\n",
       "      <td>['Fiction', 'Contemporary', 'Thriller', 'Novel...</td>\n",
       "    </tr>\n",
       "    <tr>\n",
       "      <th>2431</th>\n",
       "      <td>Antigone</td>\n",
       "      <td>Jean Anouilh</td>\n",
       "      <td>Antigone was originally produced in Paris in 1...</td>\n",
       "      <td>['Plays', 'Classics', 'France', 'Theatre', 'Dr...</td>\n",
       "    </tr>\n",
       "    <tr>\n",
       "      <th>8056</th>\n",
       "      <td>The Warrior's Path (The Sacketts, #3)</td>\n",
       "      <td>Louis L'Amour</td>\n",
       "      <td>Filled with exciting tales of the frontier, th...</td>\n",
       "      <td>['Westerns', 'Fiction', 'Historical Fiction', ...</td>\n",
       "    </tr>\n",
       "    <tr>\n",
       "      <th>5603</th>\n",
       "      <td>My Life: An Attempt at an Autobiography</td>\n",
       "      <td>Leon Trotsky</td>\n",
       "      <td>Autobiographical account by a leader of the Oc...</td>\n",
       "      <td>['History', 'Biography', 'Politics', 'Nonficti...</td>\n",
       "    </tr>\n",
       "    <tr>\n",
       "      <th>669</th>\n",
       "      <td>The Joy of Cooking</td>\n",
       "      <td>Irma S. Rombauer</td>\n",
       "      <td>Since its original publication, Joy of Cooking...</td>\n",
       "      <td>['Cookbooks', 'Cooking', 'Food', 'Nonfiction',...</td>\n",
       "    </tr>\n",
       "  </tbody>\n",
       "</table>\n",
       "</div>"
      ],
      "text/plain": [
       "                                         Book            Author  \\\n",
       "1282                                 Survivor   Chuck Palahniuk   \n",
       "2431                                 Antigone      Jean Anouilh   \n",
       "8056    The Warrior's Path (The Sacketts, #3)     Louis L'Amour   \n",
       "5603  My Life: An Attempt at an Autobiography      Leon Trotsky   \n",
       "669                        The Joy of Cooking  Irma S. Rombauer   \n",
       "\n",
       "                                            Description  \\\n",
       "1282  From the author of the underground sensation F...   \n",
       "2431  Antigone was originally produced in Paris in 1...   \n",
       "8056  Filled with exciting tales of the frontier, th...   \n",
       "5603  Autobiographical account by a leader of the Oc...   \n",
       "669   Since its original publication, Joy of Cooking...   \n",
       "\n",
       "                                                 Genres  \n",
       "1282  ['Fiction', 'Contemporary', 'Thriller', 'Novel...  \n",
       "2431  ['Plays', 'Classics', 'France', 'Theatre', 'Dr...  \n",
       "8056  ['Westerns', 'Fiction', 'Historical Fiction', ...  \n",
       "5603  ['History', 'Biography', 'Politics', 'Nonficti...  \n",
       "669   ['Cookbooks', 'Cooking', 'Food', 'Nonfiction',...  "
      ]
     },
     "execution_count": 6,
     "metadata": {},
     "output_type": "execute_result"
    }
   ],
   "source": [
    "'''\n",
    "As colunas que serão removidas serão: 'Unnamed: 0', 'URL', Avg_Rating e Num_Rating pois não acrescentam uma informação importante para \n",
    "a recomendação de algum livro.\n",
    "'''\n",
    "#Lista de colunas para remover\n",
    "colunas_para_remover = ['Unnamed: 0', 'URL', 'Avg_Rating', 'Num_Ratings']\n",
    "\n",
    "#Removendo colunas\n",
    "df = df.drop(colunas_para_remover, axis = 1)\n",
    "\n",
    "df.sample(5)"
   ]
  },
  {
   "cell_type": "code",
   "execution_count": 7,
   "id": "14dc4130-d2a3-44dc-b71e-671b88c5365e",
   "metadata": {},
   "outputs": [
    {
     "name": "stdout",
     "output_type": "stream",
     "text": [
      "<class 'pandas.core.frame.DataFrame'>\n",
      "RangeIndex: 10000 entries, 0 to 9999\n",
      "Data columns (total 4 columns):\n",
      " #   Column       Non-Null Count  Dtype \n",
      "---  ------       --------------  ----- \n",
      " 0   Book         10000 non-null  object\n",
      " 1   Author       10000 non-null  object\n",
      " 2   Description  9923 non-null   object\n",
      " 3   Genres       10000 non-null  object\n",
      "dtypes: object(4)\n",
      "memory usage: 312.6+ KB\n"
     ]
    }
   ],
   "source": [
    "df.info()"
   ]
  },
  {
   "cell_type": "code",
   "execution_count": 8,
   "id": "f2057925-2807-4ad1-b6ab-f1f3ac649774",
   "metadata": {},
   "outputs": [],
   "source": [
    "# Verificando valores ausentes\n",
    "def valores_ausentes(df):\n",
    "    soma = df.isnull().sum()\n",
    "    porcentagem = ((df.isnull().sum() / len(df)) * 100).map('{:.2f}%'.format)\n",
    "    return pd.DataFrame({'valores_ausentes' : soma,\n",
    "                         'porcentagem': porcentagem})"
   ]
  },
  {
   "cell_type": "code",
   "execution_count": 9,
   "id": "ebfca237-a2d1-473f-a843-de55236f6006",
   "metadata": {},
   "outputs": [
    {
     "data": {
      "text/html": [
       "<div>\n",
       "<style scoped>\n",
       "    .dataframe tbody tr th:only-of-type {\n",
       "        vertical-align: middle;\n",
       "    }\n",
       "\n",
       "    .dataframe tbody tr th {\n",
       "        vertical-align: top;\n",
       "    }\n",
       "\n",
       "    .dataframe thead th {\n",
       "        text-align: right;\n",
       "    }\n",
       "</style>\n",
       "<table border=\"1\" class=\"dataframe\">\n",
       "  <thead>\n",
       "    <tr style=\"text-align: right;\">\n",
       "      <th></th>\n",
       "      <th>valores_ausentes</th>\n",
       "      <th>porcentagem</th>\n",
       "    </tr>\n",
       "  </thead>\n",
       "  <tbody>\n",
       "    <tr>\n",
       "      <th>Book</th>\n",
       "      <td>0</td>\n",
       "      <td>0.00%</td>\n",
       "    </tr>\n",
       "    <tr>\n",
       "      <th>Author</th>\n",
       "      <td>0</td>\n",
       "      <td>0.00%</td>\n",
       "    </tr>\n",
       "    <tr>\n",
       "      <th>Description</th>\n",
       "      <td>77</td>\n",
       "      <td>0.77%</td>\n",
       "    </tr>\n",
       "    <tr>\n",
       "      <th>Genres</th>\n",
       "      <td>0</td>\n",
       "      <td>0.00%</td>\n",
       "    </tr>\n",
       "  </tbody>\n",
       "</table>\n",
       "</div>"
      ],
      "text/plain": [
       "             valores_ausentes porcentagem\n",
       "Book                        0       0.00%\n",
       "Author                      0       0.00%\n",
       "Description                77       0.77%\n",
       "Genres                      0       0.00%"
      ]
     },
     "execution_count": 9,
     "metadata": {},
     "output_type": "execute_result"
    }
   ],
   "source": [
    "valores_ausentes(df)"
   ]
  },
  {
   "cell_type": "code",
   "execution_count": 10,
   "id": "0617310c-f366-4d68-ae75-2c78883729eb",
   "metadata": {},
   "outputs": [],
   "source": [
    "# Como são poucos os valores ausentes, serão apenas removidos do dataset\n",
    "df.dropna(inplace = True)"
   ]
  },
  {
   "cell_type": "code",
   "execution_count": 11,
   "id": "ed23b7c5-b94a-4d08-9ab9-48b54416b13e",
   "metadata": {},
   "outputs": [
    {
     "data": {
      "text/html": [
       "<div>\n",
       "<style scoped>\n",
       "    .dataframe tbody tr th:only-of-type {\n",
       "        vertical-align: middle;\n",
       "    }\n",
       "\n",
       "    .dataframe tbody tr th {\n",
       "        vertical-align: top;\n",
       "    }\n",
       "\n",
       "    .dataframe thead th {\n",
       "        text-align: right;\n",
       "    }\n",
       "</style>\n",
       "<table border=\"1\" class=\"dataframe\">\n",
       "  <thead>\n",
       "    <tr style=\"text-align: right;\">\n",
       "      <th></th>\n",
       "      <th>valores_ausentes</th>\n",
       "      <th>porcentagem</th>\n",
       "    </tr>\n",
       "  </thead>\n",
       "  <tbody>\n",
       "    <tr>\n",
       "      <th>Book</th>\n",
       "      <td>0</td>\n",
       "      <td>0.00%</td>\n",
       "    </tr>\n",
       "    <tr>\n",
       "      <th>Author</th>\n",
       "      <td>0</td>\n",
       "      <td>0.00%</td>\n",
       "    </tr>\n",
       "    <tr>\n",
       "      <th>Description</th>\n",
       "      <td>0</td>\n",
       "      <td>0.00%</td>\n",
       "    </tr>\n",
       "    <tr>\n",
       "      <th>Genres</th>\n",
       "      <td>0</td>\n",
       "      <td>0.00%</td>\n",
       "    </tr>\n",
       "  </tbody>\n",
       "</table>\n",
       "</div>"
      ],
      "text/plain": [
       "             valores_ausentes porcentagem\n",
       "Book                        0       0.00%\n",
       "Author                      0       0.00%\n",
       "Description                 0       0.00%\n",
       "Genres                      0       0.00%"
      ]
     },
     "execution_count": 11,
     "metadata": {},
     "output_type": "execute_result"
    }
   ],
   "source": [
    "valores_ausentes(df)"
   ]
  },
  {
   "cell_type": "code",
   "execution_count": 12,
   "id": "0097aa6a-4e67-4c7f-a39c-710f4a070134",
   "metadata": {},
   "outputs": [],
   "source": [
    "# Remover o texto dentro dos parênteses e os próprios parênteses\n",
    "df['Book'] = df['Book'].str.replace(r'\\s*\\(.*\\)', '', regex=True)"
   ]
  },
  {
   "cell_type": "code",
   "execution_count": 13,
   "id": "cd8764d5-66e9-4b5a-aafa-21f697f13bbc",
   "metadata": {},
   "outputs": [],
   "source": [
    "#Alterando nome das colunas\n",
    "df = df.rename(columns = {'Book': 'book',\n",
    "                          'Author': 'author',\n",
    "                          'Description': 'description',\n",
    "                          'Genres': 'genres'\n",
    "                          })"
   ]
  },
  {
   "cell_type": "code",
   "execution_count": 14,
   "id": "90364bdc-94fa-4301-9794-368b855d1a23",
   "metadata": {},
   "outputs": [
    {
     "data": {
      "text/html": [
       "<div>\n",
       "<style scoped>\n",
       "    .dataframe tbody tr th:only-of-type {\n",
       "        vertical-align: middle;\n",
       "    }\n",
       "\n",
       "    .dataframe tbody tr th {\n",
       "        vertical-align: top;\n",
       "    }\n",
       "\n",
       "    .dataframe thead th {\n",
       "        text-align: right;\n",
       "    }\n",
       "</style>\n",
       "<table border=\"1\" class=\"dataframe\">\n",
       "  <thead>\n",
       "    <tr style=\"text-align: right;\">\n",
       "      <th></th>\n",
       "      <th>book</th>\n",
       "      <th>author</th>\n",
       "      <th>description</th>\n",
       "      <th>genres</th>\n",
       "    </tr>\n",
       "  </thead>\n",
       "  <tbody>\n",
       "    <tr>\n",
       "      <th>0</th>\n",
       "      <td>To Kill a Mockingbird</td>\n",
       "      <td>Harper Lee</td>\n",
       "      <td>The unforgettable novel of a childhood in a sl...</td>\n",
       "      <td>['Classics', 'Fiction', 'Historical Fiction', ...</td>\n",
       "    </tr>\n",
       "    <tr>\n",
       "      <th>1</th>\n",
       "      <td>Harry Potter and the Philosopher’s Stone</td>\n",
       "      <td>J.K. Rowling</td>\n",
       "      <td>Harry Potter thinks he is an ordinary boy - un...</td>\n",
       "      <td>['Fantasy', 'Fiction', 'Young Adult', 'Magic',...</td>\n",
       "    </tr>\n",
       "    <tr>\n",
       "      <th>2</th>\n",
       "      <td>Pride and Prejudice</td>\n",
       "      <td>Jane Austen</td>\n",
       "      <td>Since its immediate success in 1813, Pride and...</td>\n",
       "      <td>['Classics', 'Fiction', 'Romance', 'Historical...</td>\n",
       "    </tr>\n",
       "  </tbody>\n",
       "</table>\n",
       "</div>"
      ],
      "text/plain": [
       "                                       book        author  \\\n",
       "0                     To Kill a Mockingbird    Harper Lee   \n",
       "1  Harry Potter and the Philosopher’s Stone  J.K. Rowling   \n",
       "2                       Pride and Prejudice   Jane Austen   \n",
       "\n",
       "                                         description  \\\n",
       "0  The unforgettable novel of a childhood in a sl...   \n",
       "1  Harry Potter thinks he is an ordinary boy - un...   \n",
       "2  Since its immediate success in 1813, Pride and...   \n",
       "\n",
       "                                              genres  \n",
       "0  ['Classics', 'Fiction', 'Historical Fiction', ...  \n",
       "1  ['Fantasy', 'Fiction', 'Young Adult', 'Magic',...  \n",
       "2  ['Classics', 'Fiction', 'Romance', 'Historical...  "
      ]
     },
     "execution_count": 14,
     "metadata": {},
     "output_type": "execute_result"
    }
   ],
   "source": [
    "df.head(3)"
   ]
  },
  {
   "cell_type": "markdown",
   "id": "cc3306e3-b307-4927-8c52-b29f9e9d1bf5",
   "metadata": {},
   "source": [
    "### <font color='red'>Parte 2: Processamento de Texto</font>"
   ]
  },
  {
   "cell_type": "code",
   "execution_count": 15,
   "id": "c86ca5ef-8039-4c0d-ac7f-dad266f9fb97",
   "metadata": {},
   "outputs": [],
   "source": [
    "# Convertendo valores na coluna com literal_eval\n",
    "'''\n",
    "A função literal_eval será usada para converter strings que representam listas de gêneros de filmes em listas reais de Python. \n",
    "Inicialmente, a coluna do DataFrame comtém os gêneros como strings no formato de listas, como ['Classics', 'Fiction', 'Historical Fiction', ...]. \n",
    "Usando literal_eval, essas strings serão transformadas em listas de verdade, permitindo que cada célula da coluna genres seja convertida para o \n",
    "formato de lista Python correspondente.\n",
    "'''\n",
    "# Conversão de strings para listas usando literal_eval\n",
    "df['genres'] = df['genres'].apply(literal_eval)"
   ]
  },
  {
   "cell_type": "code",
   "execution_count": 16,
   "id": "5af5a7dd-d998-4659-8331-df8ed2d98e27",
   "metadata": {},
   "outputs": [
    {
     "data": {
      "text/html": [
       "<div>\n",
       "<style scoped>\n",
       "    .dataframe tbody tr th:only-of-type {\n",
       "        vertical-align: middle;\n",
       "    }\n",
       "\n",
       "    .dataframe tbody tr th {\n",
       "        vertical-align: top;\n",
       "    }\n",
       "\n",
       "    .dataframe thead th {\n",
       "        text-align: right;\n",
       "    }\n",
       "</style>\n",
       "<table border=\"1\" class=\"dataframe\">\n",
       "  <thead>\n",
       "    <tr style=\"text-align: right;\">\n",
       "      <th></th>\n",
       "      <th>book</th>\n",
       "      <th>author</th>\n",
       "      <th>description</th>\n",
       "      <th>genres</th>\n",
       "    </tr>\n",
       "  </thead>\n",
       "  <tbody>\n",
       "    <tr>\n",
       "      <th>0</th>\n",
       "      <td>To Kill a Mockingbird</td>\n",
       "      <td>Harper Lee</td>\n",
       "      <td>The unforgettable novel of a childhood in a sl...</td>\n",
       "      <td>[Classics, Fiction, Historical Fiction, School...</td>\n",
       "    </tr>\n",
       "    <tr>\n",
       "      <th>1</th>\n",
       "      <td>Harry Potter and the Philosopher’s Stone</td>\n",
       "      <td>J.K. Rowling</td>\n",
       "      <td>Harry Potter thinks he is an ordinary boy - un...</td>\n",
       "      <td>[Fantasy, Fiction, Young Adult, Magic, Childre...</td>\n",
       "    </tr>\n",
       "    <tr>\n",
       "      <th>2</th>\n",
       "      <td>Pride and Prejudice</td>\n",
       "      <td>Jane Austen</td>\n",
       "      <td>Since its immediate success in 1813, Pride and...</td>\n",
       "      <td>[Classics, Fiction, Romance, Historical Fictio...</td>\n",
       "    </tr>\n",
       "  </tbody>\n",
       "</table>\n",
       "</div>"
      ],
      "text/plain": [
       "                                       book        author  \\\n",
       "0                     To Kill a Mockingbird    Harper Lee   \n",
       "1  Harry Potter and the Philosopher’s Stone  J.K. Rowling   \n",
       "2                       Pride and Prejudice   Jane Austen   \n",
       "\n",
       "                                         description  \\\n",
       "0  The unforgettable novel of a childhood in a sl...   \n",
       "1  Harry Potter thinks he is an ordinary boy - un...   \n",
       "2  Since its immediate success in 1813, Pride and...   \n",
       "\n",
       "                                              genres  \n",
       "0  [Classics, Fiction, Historical Fiction, School...  \n",
       "1  [Fantasy, Fiction, Young Adult, Magic, Childre...  \n",
       "2  [Classics, Fiction, Romance, Historical Fictio...  "
      ]
     },
     "execution_count": 16,
     "metadata": {},
     "output_type": "execute_result"
    }
   ],
   "source": [
    "df.head(3)"
   ]
  },
  {
   "cell_type": "code",
   "execution_count": 17,
   "id": "466571ba-cfa0-439d-b64d-469c70639b89",
   "metadata": {},
   "outputs": [],
   "source": [
    "# Inicializando uma lista vazia\n",
    "new_column = []\n",
    "\n",
    "# Loop para percorrer cada descrição e adicionar a lista de palavras à nova lista\n",
    "for description in df['description']:\n",
    "    words_list = description.split()  # Dividindo a descrição em uma lista de palavras\n",
    "    new_column.append(words_list)     # Adicionando a lista de palavras à nova coluna\n",
    "\n",
    "# Substituindo a coluna original pela nova lista de listas\n",
    "df['description'] = new_column"
   ]
  },
  {
   "cell_type": "code",
   "execution_count": 18,
   "id": "a1a6d8e5-5f3d-4a71-86b8-135b78345b15",
   "metadata": {},
   "outputs": [
    {
     "data": {
      "text/html": [
       "<div>\n",
       "<style scoped>\n",
       "    .dataframe tbody tr th:only-of-type {\n",
       "        vertical-align: middle;\n",
       "    }\n",
       "\n",
       "    .dataframe tbody tr th {\n",
       "        vertical-align: top;\n",
       "    }\n",
       "\n",
       "    .dataframe thead th {\n",
       "        text-align: right;\n",
       "    }\n",
       "</style>\n",
       "<table border=\"1\" class=\"dataframe\">\n",
       "  <thead>\n",
       "    <tr style=\"text-align: right;\">\n",
       "      <th></th>\n",
       "      <th>book</th>\n",
       "      <th>author</th>\n",
       "      <th>description</th>\n",
       "      <th>genres</th>\n",
       "    </tr>\n",
       "  </thead>\n",
       "  <tbody>\n",
       "    <tr>\n",
       "      <th>0</th>\n",
       "      <td>To Kill a Mockingbird</td>\n",
       "      <td>Harper Lee</td>\n",
       "      <td>[The, unforgettable, novel, of, a, childhood, ...</td>\n",
       "      <td>[Classics, Fiction, Historical Fiction, School...</td>\n",
       "    </tr>\n",
       "    <tr>\n",
       "      <th>1</th>\n",
       "      <td>Harry Potter and the Philosopher’s Stone</td>\n",
       "      <td>J.K. Rowling</td>\n",
       "      <td>[Harry, Potter, thinks, he, is, an, ordinary, ...</td>\n",
       "      <td>[Fantasy, Fiction, Young Adult, Magic, Childre...</td>\n",
       "    </tr>\n",
       "    <tr>\n",
       "      <th>2</th>\n",
       "      <td>Pride and Prejudice</td>\n",
       "      <td>Jane Austen</td>\n",
       "      <td>[Since, its, immediate, success, in, 1813,, Pr...</td>\n",
       "      <td>[Classics, Fiction, Romance, Historical Fictio...</td>\n",
       "    </tr>\n",
       "  </tbody>\n",
       "</table>\n",
       "</div>"
      ],
      "text/plain": [
       "                                       book        author  \\\n",
       "0                     To Kill a Mockingbird    Harper Lee   \n",
       "1  Harry Potter and the Philosopher’s Stone  J.K. Rowling   \n",
       "2                       Pride and Prejudice   Jane Austen   \n",
       "\n",
       "                                         description  \\\n",
       "0  [The, unforgettable, novel, of, a, childhood, ...   \n",
       "1  [Harry, Potter, thinks, he, is, an, ordinary, ...   \n",
       "2  [Since, its, immediate, success, in, 1813,, Pr...   \n",
       "\n",
       "                                              genres  \n",
       "0  [Classics, Fiction, Historical Fiction, School...  \n",
       "1  [Fantasy, Fiction, Young Adult, Magic, Childre...  \n",
       "2  [Classics, Fiction, Romance, Historical Fictio...  "
      ]
     },
     "execution_count": 18,
     "metadata": {},
     "output_type": "execute_result"
    }
   ],
   "source": [
    "df.head(3)"
   ]
  },
  {
   "cell_type": "code",
   "execution_count": 19,
   "id": "0f8af823-39fd-4d34-a003-a0d36f3d7878",
   "metadata": {},
   "outputs": [],
   "source": [
    "# Inicializando uma lista vazia\n",
    "new_column = []\n",
    "\n",
    "# Loop para percorrer cada descrição e adicionar a lista de palavras à nova lista\n",
    "for author in df['author']:\n",
    "    new_column.append([author])\n",
    "\n",
    "df['author'] = new_column"
   ]
  },
  {
   "cell_type": "code",
   "execution_count": 20,
   "id": "f7a45cbe-2a73-4007-b163-55f00304365a",
   "metadata": {},
   "outputs": [
    {
     "data": {
      "text/html": [
       "<div>\n",
       "<style scoped>\n",
       "    .dataframe tbody tr th:only-of-type {\n",
       "        vertical-align: middle;\n",
       "    }\n",
       "\n",
       "    .dataframe tbody tr th {\n",
       "        vertical-align: top;\n",
       "    }\n",
       "\n",
       "    .dataframe thead th {\n",
       "        text-align: right;\n",
       "    }\n",
       "</style>\n",
       "<table border=\"1\" class=\"dataframe\">\n",
       "  <thead>\n",
       "    <tr style=\"text-align: right;\">\n",
       "      <th></th>\n",
       "      <th>book</th>\n",
       "      <th>author</th>\n",
       "      <th>description</th>\n",
       "      <th>genres</th>\n",
       "    </tr>\n",
       "  </thead>\n",
       "  <tbody>\n",
       "    <tr>\n",
       "      <th>0</th>\n",
       "      <td>To Kill a Mockingbird</td>\n",
       "      <td>[Harper Lee]</td>\n",
       "      <td>[The, unforgettable, novel, of, a, childhood, ...</td>\n",
       "      <td>[Classics, Fiction, Historical Fiction, School...</td>\n",
       "    </tr>\n",
       "    <tr>\n",
       "      <th>1</th>\n",
       "      <td>Harry Potter and the Philosopher’s Stone</td>\n",
       "      <td>[J.K. Rowling]</td>\n",
       "      <td>[Harry, Potter, thinks, he, is, an, ordinary, ...</td>\n",
       "      <td>[Fantasy, Fiction, Young Adult, Magic, Childre...</td>\n",
       "    </tr>\n",
       "    <tr>\n",
       "      <th>2</th>\n",
       "      <td>Pride and Prejudice</td>\n",
       "      <td>[Jane Austen]</td>\n",
       "      <td>[Since, its, immediate, success, in, 1813,, Pr...</td>\n",
       "      <td>[Classics, Fiction, Romance, Historical Fictio...</td>\n",
       "    </tr>\n",
       "  </tbody>\n",
       "</table>\n",
       "</div>"
      ],
      "text/plain": [
       "                                       book          author  \\\n",
       "0                     To Kill a Mockingbird    [Harper Lee]   \n",
       "1  Harry Potter and the Philosopher’s Stone  [J.K. Rowling]   \n",
       "2                       Pride and Prejudice   [Jane Austen]   \n",
       "\n",
       "                                         description  \\\n",
       "0  [The, unforgettable, novel, of, a, childhood, ...   \n",
       "1  [Harry, Potter, thinks, he, is, an, ordinary, ...   \n",
       "2  [Since, its, immediate, success, in, 1813,, Pr...   \n",
       "\n",
       "                                              genres  \n",
       "0  [Classics, Fiction, Historical Fiction, School...  \n",
       "1  [Fantasy, Fiction, Young Adult, Magic, Childre...  \n",
       "2  [Classics, Fiction, Romance, Historical Fictio...  "
      ]
     },
     "execution_count": 20,
     "metadata": {},
     "output_type": "execute_result"
    }
   ],
   "source": [
    "df.head(3)"
   ]
  },
  {
   "cell_type": "markdown",
   "id": "5f821051-cedb-446d-81a5-2c96beaa2058",
   "metadata": {},
   "source": [
    "### <font color='red'>Parte 3: Limpeza de Dados</font>"
   ]
  },
  {
   "cell_type": "code",
   "execution_count": 21,
   "id": "4b5df8f5-5f39-4d58-9690-19fc3bfe0815",
   "metadata": {},
   "outputs": [],
   "source": [
    "# Removendo espaços vazios\n",
    "\n",
    "df['author'] = df['author'].apply(lambda x:[i.replace(' ','') for i in x])\n",
    "\n",
    "df['description'] = df['description'].apply(lambda x:[i.replace(' ','') for i in x])\n",
    "\n",
    "df['genres'] = df['genres'].apply(lambda x:[i.replace(' ','') for i in x])"
   ]
  },
  {
   "cell_type": "code",
   "execution_count": 22,
   "id": "38c9f9c3-0145-4554-bb00-b40b906d76c2",
   "metadata": {},
   "outputs": [],
   "source": [
    "# Removendo ponto de autores\n",
    "df['author'] = df['author'].apply(lambda x:[i.replace('.','') for i in x])"
   ]
  },
  {
   "cell_type": "code",
   "execution_count": 23,
   "id": "90eadec2-8f22-44f6-a577-0e92d6be6731",
   "metadata": {},
   "outputs": [
    {
     "data": {
      "text/html": [
       "<div>\n",
       "<style scoped>\n",
       "    .dataframe tbody tr th:only-of-type {\n",
       "        vertical-align: middle;\n",
       "    }\n",
       "\n",
       "    .dataframe tbody tr th {\n",
       "        vertical-align: top;\n",
       "    }\n",
       "\n",
       "    .dataframe thead th {\n",
       "        text-align: right;\n",
       "    }\n",
       "</style>\n",
       "<table border=\"1\" class=\"dataframe\">\n",
       "  <thead>\n",
       "    <tr style=\"text-align: right;\">\n",
       "      <th></th>\n",
       "      <th>book</th>\n",
       "      <th>author</th>\n",
       "      <th>description</th>\n",
       "      <th>genres</th>\n",
       "    </tr>\n",
       "  </thead>\n",
       "  <tbody>\n",
       "    <tr>\n",
       "      <th>0</th>\n",
       "      <td>To Kill a Mockingbird</td>\n",
       "      <td>[HarperLee]</td>\n",
       "      <td>[The, unforgettable, novel, of, a, childhood, ...</td>\n",
       "      <td>[Classics, Fiction, HistoricalFiction, School,...</td>\n",
       "    </tr>\n",
       "    <tr>\n",
       "      <th>1</th>\n",
       "      <td>Harry Potter and the Philosopher’s Stone</td>\n",
       "      <td>[JKRowling]</td>\n",
       "      <td>[Harry, Potter, thinks, he, is, an, ordinary, ...</td>\n",
       "      <td>[Fantasy, Fiction, YoungAdult, Magic, Children...</td>\n",
       "    </tr>\n",
       "    <tr>\n",
       "      <th>2</th>\n",
       "      <td>Pride and Prejudice</td>\n",
       "      <td>[JaneAusten]</td>\n",
       "      <td>[Since, its, immediate, success, in, 1813,, Pr...</td>\n",
       "      <td>[Classics, Fiction, Romance, HistoricalFiction...</td>\n",
       "    </tr>\n",
       "    <tr>\n",
       "      <th>3</th>\n",
       "      <td>The Diary of a Young Girl</td>\n",
       "      <td>[AnneFrank]</td>\n",
       "      <td>[Discovered, in, the, attic, in, which, she, s...</td>\n",
       "      <td>[Classics, Nonfiction, History, Biography, Mem...</td>\n",
       "    </tr>\n",
       "    <tr>\n",
       "      <th>4</th>\n",
       "      <td>Animal Farm</td>\n",
       "      <td>[GeorgeOrwell]</td>\n",
       "      <td>[Librarian's, note:, There, is, an, Alternate,...</td>\n",
       "      <td>[Classics, Fiction, Dystopia, Fantasy, Politic...</td>\n",
       "    </tr>\n",
       "  </tbody>\n",
       "</table>\n",
       "</div>"
      ],
      "text/plain": [
       "                                       book          author  \\\n",
       "0                     To Kill a Mockingbird     [HarperLee]   \n",
       "1  Harry Potter and the Philosopher’s Stone     [JKRowling]   \n",
       "2                       Pride and Prejudice    [JaneAusten]   \n",
       "3                 The Diary of a Young Girl     [AnneFrank]   \n",
       "4                               Animal Farm  [GeorgeOrwell]   \n",
       "\n",
       "                                         description  \\\n",
       "0  [The, unforgettable, novel, of, a, childhood, ...   \n",
       "1  [Harry, Potter, thinks, he, is, an, ordinary, ...   \n",
       "2  [Since, its, immediate, success, in, 1813,, Pr...   \n",
       "3  [Discovered, in, the, attic, in, which, she, s...   \n",
       "4  [Librarian's, note:, There, is, an, Alternate,...   \n",
       "\n",
       "                                              genres  \n",
       "0  [Classics, Fiction, HistoricalFiction, School,...  \n",
       "1  [Fantasy, Fiction, YoungAdult, Magic, Children...  \n",
       "2  [Classics, Fiction, Romance, HistoricalFiction...  \n",
       "3  [Classics, Nonfiction, History, Biography, Mem...  \n",
       "4  [Classics, Fiction, Dystopia, Fantasy, Politic...  "
      ]
     },
     "execution_count": 23,
     "metadata": {},
     "output_type": "execute_result"
    }
   ],
   "source": [
    "df.head()"
   ]
  },
  {
   "cell_type": "markdown",
   "id": "67b1c782-b4d9-451d-8708-44e7b8257db1",
   "metadata": {},
   "source": [
    "### <font color='red'>Parte 4: Preparando DataFrame para Vetorização</font>"
   ]
  },
  {
   "cell_type": "code",
   "execution_count": 24,
   "id": "e9d5ee8f-77e8-41e5-8209-ab39b1697a0e",
   "metadata": {},
   "outputs": [],
   "source": [
    "# Criamos a coluna de tags, nesse caso um vetor de strings com os valores das colunas\n",
    "df['tags'] = df['author'] + \\\n",
    "             df['description'] + \\\n",
    "             df['genres']"
   ]
  },
  {
   "cell_type": "code",
   "execution_count": 25,
   "id": "16becdba-be3d-458d-8e8e-015c3d15a95a",
   "metadata": {},
   "outputs": [
    {
     "data": {
      "text/html": [
       "<div>\n",
       "<style scoped>\n",
       "    .dataframe tbody tr th:only-of-type {\n",
       "        vertical-align: middle;\n",
       "    }\n",
       "\n",
       "    .dataframe tbody tr th {\n",
       "        vertical-align: top;\n",
       "    }\n",
       "\n",
       "    .dataframe thead th {\n",
       "        text-align: right;\n",
       "    }\n",
       "</style>\n",
       "<table border=\"1\" class=\"dataframe\">\n",
       "  <thead>\n",
       "    <tr style=\"text-align: right;\">\n",
       "      <th></th>\n",
       "      <th>book</th>\n",
       "      <th>author</th>\n",
       "      <th>description</th>\n",
       "      <th>genres</th>\n",
       "      <th>tags</th>\n",
       "    </tr>\n",
       "  </thead>\n",
       "  <tbody>\n",
       "    <tr>\n",
       "      <th>0</th>\n",
       "      <td>To Kill a Mockingbird</td>\n",
       "      <td>[HarperLee]</td>\n",
       "      <td>[The, unforgettable, novel, of, a, childhood, ...</td>\n",
       "      <td>[Classics, Fiction, HistoricalFiction, School,...</td>\n",
       "      <td>[HarperLee, The, unforgettable, novel, of, a, ...</td>\n",
       "    </tr>\n",
       "    <tr>\n",
       "      <th>1</th>\n",
       "      <td>Harry Potter and the Philosopher’s Stone</td>\n",
       "      <td>[JKRowling]</td>\n",
       "      <td>[Harry, Potter, thinks, he, is, an, ordinary, ...</td>\n",
       "      <td>[Fantasy, Fiction, YoungAdult, Magic, Children...</td>\n",
       "      <td>[JKRowling, Harry, Potter, thinks, he, is, an,...</td>\n",
       "    </tr>\n",
       "    <tr>\n",
       "      <th>2</th>\n",
       "      <td>Pride and Prejudice</td>\n",
       "      <td>[JaneAusten]</td>\n",
       "      <td>[Since, its, immediate, success, in, 1813,, Pr...</td>\n",
       "      <td>[Classics, Fiction, Romance, HistoricalFiction...</td>\n",
       "      <td>[JaneAusten, Since, its, immediate, success, i...</td>\n",
       "    </tr>\n",
       "    <tr>\n",
       "      <th>3</th>\n",
       "      <td>The Diary of a Young Girl</td>\n",
       "      <td>[AnneFrank]</td>\n",
       "      <td>[Discovered, in, the, attic, in, which, she, s...</td>\n",
       "      <td>[Classics, Nonfiction, History, Biography, Mem...</td>\n",
       "      <td>[AnneFrank, Discovered, in, the, attic, in, wh...</td>\n",
       "    </tr>\n",
       "    <tr>\n",
       "      <th>4</th>\n",
       "      <td>Animal Farm</td>\n",
       "      <td>[GeorgeOrwell]</td>\n",
       "      <td>[Librarian's, note:, There, is, an, Alternate,...</td>\n",
       "      <td>[Classics, Fiction, Dystopia, Fantasy, Politic...</td>\n",
       "      <td>[GeorgeOrwell, Librarian's, note:, There, is, ...</td>\n",
       "    </tr>\n",
       "  </tbody>\n",
       "</table>\n",
       "</div>"
      ],
      "text/plain": [
       "                                       book          author  \\\n",
       "0                     To Kill a Mockingbird     [HarperLee]   \n",
       "1  Harry Potter and the Philosopher’s Stone     [JKRowling]   \n",
       "2                       Pride and Prejudice    [JaneAusten]   \n",
       "3                 The Diary of a Young Girl     [AnneFrank]   \n",
       "4                               Animal Farm  [GeorgeOrwell]   \n",
       "\n",
       "                                         description  \\\n",
       "0  [The, unforgettable, novel, of, a, childhood, ...   \n",
       "1  [Harry, Potter, thinks, he, is, an, ordinary, ...   \n",
       "2  [Since, its, immediate, success, in, 1813,, Pr...   \n",
       "3  [Discovered, in, the, attic, in, which, she, s...   \n",
       "4  [Librarian's, note:, There, is, an, Alternate,...   \n",
       "\n",
       "                                              genres  \\\n",
       "0  [Classics, Fiction, HistoricalFiction, School,...   \n",
       "1  [Fantasy, Fiction, YoungAdult, Magic, Children...   \n",
       "2  [Classics, Fiction, Romance, HistoricalFiction...   \n",
       "3  [Classics, Nonfiction, History, Biography, Mem...   \n",
       "4  [Classics, Fiction, Dystopia, Fantasy, Politic...   \n",
       "\n",
       "                                                tags  \n",
       "0  [HarperLee, The, unforgettable, novel, of, a, ...  \n",
       "1  [JKRowling, Harry, Potter, thinks, he, is, an,...  \n",
       "2  [JaneAusten, Since, its, immediate, success, i...  \n",
       "3  [AnneFrank, Discovered, in, the, attic, in, wh...  \n",
       "4  [GeorgeOrwell, Librarian's, note:, There, is, ...  "
      ]
     },
     "execution_count": 25,
     "metadata": {},
     "output_type": "execute_result"
    }
   ],
   "source": [
    "df.head()"
   ]
  },
  {
   "cell_type": "code",
   "execution_count": 26,
   "id": "d457730f-7ba3-4251-ae6b-77b72145f85b",
   "metadata": {},
   "outputs": [],
   "source": [
    "# Adicionar coluna de id_movie\n",
    "# Adicionar uma coluna 'movie_id' com IDs sequenciais\n",
    "df['book_id'] = range(1, len(df) + 1)"
   ]
  },
  {
   "cell_type": "code",
   "execution_count": 27,
   "id": "784bef95-0539-4bbd-bd79-9c012750d5dd",
   "metadata": {},
   "outputs": [],
   "source": [
    "df_final = df[['book_id', 'book', 'tags']]"
   ]
  },
  {
   "cell_type": "code",
   "execution_count": 28,
   "id": "b67d49ea-332e-48c5-9591-4a30896593d5",
   "metadata": {},
   "outputs": [
    {
     "data": {
      "text/html": [
       "<div>\n",
       "<style scoped>\n",
       "    .dataframe tbody tr th:only-of-type {\n",
       "        vertical-align: middle;\n",
       "    }\n",
       "\n",
       "    .dataframe tbody tr th {\n",
       "        vertical-align: top;\n",
       "    }\n",
       "\n",
       "    .dataframe thead th {\n",
       "        text-align: right;\n",
       "    }\n",
       "</style>\n",
       "<table border=\"1\" class=\"dataframe\">\n",
       "  <thead>\n",
       "    <tr style=\"text-align: right;\">\n",
       "      <th></th>\n",
       "      <th>book_id</th>\n",
       "      <th>book</th>\n",
       "      <th>tags</th>\n",
       "    </tr>\n",
       "  </thead>\n",
       "  <tbody>\n",
       "    <tr>\n",
       "      <th>0</th>\n",
       "      <td>1</td>\n",
       "      <td>To Kill a Mockingbird</td>\n",
       "      <td>[HarperLee, The, unforgettable, novel, of, a, ...</td>\n",
       "    </tr>\n",
       "    <tr>\n",
       "      <th>1</th>\n",
       "      <td>2</td>\n",
       "      <td>Harry Potter and the Philosopher’s Stone</td>\n",
       "      <td>[JKRowling, Harry, Potter, thinks, he, is, an,...</td>\n",
       "    </tr>\n",
       "    <tr>\n",
       "      <th>2</th>\n",
       "      <td>3</td>\n",
       "      <td>Pride and Prejudice</td>\n",
       "      <td>[JaneAusten, Since, its, immediate, success, i...</td>\n",
       "    </tr>\n",
       "    <tr>\n",
       "      <th>3</th>\n",
       "      <td>4</td>\n",
       "      <td>The Diary of a Young Girl</td>\n",
       "      <td>[AnneFrank, Discovered, in, the, attic, in, wh...</td>\n",
       "    </tr>\n",
       "    <tr>\n",
       "      <th>4</th>\n",
       "      <td>5</td>\n",
       "      <td>Animal Farm</td>\n",
       "      <td>[GeorgeOrwell, Librarian's, note:, There, is, ...</td>\n",
       "    </tr>\n",
       "  </tbody>\n",
       "</table>\n",
       "</div>"
      ],
      "text/plain": [
       "   book_id                                      book  \\\n",
       "0        1                     To Kill a Mockingbird   \n",
       "1        2  Harry Potter and the Philosopher’s Stone   \n",
       "2        3                       Pride and Prejudice   \n",
       "3        4                 The Diary of a Young Girl   \n",
       "4        5                               Animal Farm   \n",
       "\n",
       "                                                tags  \n",
       "0  [HarperLee, The, unforgettable, novel, of, a, ...  \n",
       "1  [JKRowling, Harry, Potter, thinks, he, is, an,...  \n",
       "2  [JaneAusten, Since, its, immediate, success, i...  \n",
       "3  [AnneFrank, Discovered, in, the, attic, in, wh...  \n",
       "4  [GeorgeOrwell, Librarian's, note:, There, is, ...  "
      ]
     },
     "execution_count": 28,
     "metadata": {},
     "output_type": "execute_result"
    }
   ],
   "source": [
    "df_final.head(5)"
   ]
  },
  {
   "cell_type": "code",
   "execution_count": 29,
   "id": "b845d31b-6660-4311-aa00-6ba3be9adf46",
   "metadata": {},
   "outputs": [],
   "source": [
    "# Join das strings para simplificar o vetor\n",
    "df_final['tags'] = df_final['tags'].apply(lambda x:\" \".join(x))"
   ]
  },
  {
   "cell_type": "code",
   "execution_count": 30,
   "id": "59b1492e-e047-4448-9803-0719f99f1da4",
   "metadata": {},
   "outputs": [],
   "source": [
    "# Coloca tudo em minúsculo para evitar diferença de palavras maiúsculo/minúsculo\n",
    "df_final['tags'] = df_final['tags'].apply(lambda x:x.lower())"
   ]
  },
  {
   "cell_type": "code",
   "execution_count": 31,
   "id": "937935e0-4839-4803-9bab-af5cf8939a56",
   "metadata": {},
   "outputs": [
    {
     "data": {
      "text/html": [
       "<div>\n",
       "<style scoped>\n",
       "    .dataframe tbody tr th:only-of-type {\n",
       "        vertical-align: middle;\n",
       "    }\n",
       "\n",
       "    .dataframe tbody tr th {\n",
       "        vertical-align: top;\n",
       "    }\n",
       "\n",
       "    .dataframe thead th {\n",
       "        text-align: right;\n",
       "    }\n",
       "</style>\n",
       "<table border=\"1\" class=\"dataframe\">\n",
       "  <thead>\n",
       "    <tr style=\"text-align: right;\">\n",
       "      <th></th>\n",
       "      <th>book_id</th>\n",
       "      <th>book</th>\n",
       "      <th>tags</th>\n",
       "    </tr>\n",
       "  </thead>\n",
       "  <tbody>\n",
       "    <tr>\n",
       "      <th>0</th>\n",
       "      <td>1</td>\n",
       "      <td>To Kill a Mockingbird</td>\n",
       "      <td>harperlee the unforgettable novel of a childho...</td>\n",
       "    </tr>\n",
       "    <tr>\n",
       "      <th>1</th>\n",
       "      <td>2</td>\n",
       "      <td>Harry Potter and the Philosopher’s Stone</td>\n",
       "      <td>jkrowling harry potter thinks he is an ordinar...</td>\n",
       "    </tr>\n",
       "    <tr>\n",
       "      <th>2</th>\n",
       "      <td>3</td>\n",
       "      <td>Pride and Prejudice</td>\n",
       "      <td>janeausten since its immediate success in 1813...</td>\n",
       "    </tr>\n",
       "    <tr>\n",
       "      <th>3</th>\n",
       "      <td>4</td>\n",
       "      <td>The Diary of a Young Girl</td>\n",
       "      <td>annefrank discovered in the attic in which she...</td>\n",
       "    </tr>\n",
       "    <tr>\n",
       "      <th>4</th>\n",
       "      <td>5</td>\n",
       "      <td>Animal Farm</td>\n",
       "      <td>georgeorwell librarian's note: there is an alt...</td>\n",
       "    </tr>\n",
       "  </tbody>\n",
       "</table>\n",
       "</div>"
      ],
      "text/plain": [
       "   book_id                                      book  \\\n",
       "0        1                     To Kill a Mockingbird   \n",
       "1        2  Harry Potter and the Philosopher’s Stone   \n",
       "2        3                       Pride and Prejudice   \n",
       "3        4                 The Diary of a Young Girl   \n",
       "4        5                               Animal Farm   \n",
       "\n",
       "                                                tags  \n",
       "0  harperlee the unforgettable novel of a childho...  \n",
       "1  jkrowling harry potter thinks he is an ordinar...  \n",
       "2  janeausten since its immediate success in 1813...  \n",
       "3  annefrank discovered in the attic in which she...  \n",
       "4  georgeorwell librarian's note: there is an alt...  "
      ]
     },
     "execution_count": 31,
     "metadata": {},
     "output_type": "execute_result"
    }
   ],
   "source": [
    "df_final.head(5)"
   ]
  },
  {
   "cell_type": "markdown",
   "id": "2da23117-5d62-4d6b-bf64-84aef7211d7f",
   "metadata": {},
   "source": [
    "### <font color='red'>Parte 5: Perse e Vetorização</font>"
   ]
  },
  {
   "cell_type": "markdown",
   "id": "71f8f2f5-ee61-4d63-b074-529a4b6c739c",
   "metadata": {},
   "source": [
    "Stemming é o processo de redução de uma palavra ao seu radical que está ligado a sufixos e prefixos ou às raízes de palavras conhecidas como \"lemmas\". Stemming é importante na compreensão de linguagem natural e processamento de linguagem natural."
   ]
  },
  {
   "cell_type": "code",
   "execution_count": 32,
   "id": "23d502f5-b9ab-42fb-b0f7-ffa46a92e288",
   "metadata": {},
   "outputs": [],
   "source": [
    "# Criamos o parser\n",
    "parser_ps = PorterStemmer()"
   ]
  },
  {
   "cell_type": "code",
   "execution_count": 33,
   "id": "d8aa2016-eef3-43cd-9a66-fc86ae9c84a8",
   "metadata": {},
   "outputs": [],
   "source": [
    "# Função de stemming\n",
    "def stem(text):\n",
    "    \n",
    "    # Cria uma lista vazia chamada y para armazenar as palavras após o stemming.\n",
    "    y = []\n",
    "    \n",
    "    # Divide a string de entrada 'text' em palavras e itera sobre elas.\n",
    "    for i in text.split():\n",
    "        \n",
    "        # Realiza o stemming na palavra atual 'i' e adiciona o resultado à lista y.\n",
    "        y.append(parser_ps.stem(i))\n",
    "    \n",
    "    # Retorna as palavras processadas como uma string, unindo-as com espaços.\n",
    "    return \" \".join(y)"
   ]
  },
  {
   "cell_type": "code",
   "execution_count": 34,
   "id": "1d6d4152-ae3d-43ab-be01-ddfb851a231d",
   "metadata": {},
   "outputs": [],
   "source": [
    "# Aplica a função à coluna de tags\n",
    "df_final['tags'] = df_final['tags'].apply(stem)"
   ]
  },
  {
   "cell_type": "code",
   "execution_count": 35,
   "id": "f5209f4e-05c9-44dd-8c7c-6d88cbd727bb",
   "metadata": {},
   "outputs": [
    {
     "data": {
      "text/html": [
       "<div>\n",
       "<style scoped>\n",
       "    .dataframe tbody tr th:only-of-type {\n",
       "        vertical-align: middle;\n",
       "    }\n",
       "\n",
       "    .dataframe tbody tr th {\n",
       "        vertical-align: top;\n",
       "    }\n",
       "\n",
       "    .dataframe thead th {\n",
       "        text-align: right;\n",
       "    }\n",
       "</style>\n",
       "<table border=\"1\" class=\"dataframe\">\n",
       "  <thead>\n",
       "    <tr style=\"text-align: right;\">\n",
       "      <th></th>\n",
       "      <th>book_id</th>\n",
       "      <th>book</th>\n",
       "      <th>tags</th>\n",
       "    </tr>\n",
       "  </thead>\n",
       "  <tbody>\n",
       "    <tr>\n",
       "      <th>0</th>\n",
       "      <td>1</td>\n",
       "      <td>To Kill a Mockingbird</td>\n",
       "      <td>harperle the unforgett novel of a childhood in...</td>\n",
       "    </tr>\n",
       "    <tr>\n",
       "      <th>1</th>\n",
       "      <td>2</td>\n",
       "      <td>Harry Potter and the Philosopher’s Stone</td>\n",
       "      <td>jkrowl harri potter think he is an ordinari bo...</td>\n",
       "    </tr>\n",
       "    <tr>\n",
       "      <th>2</th>\n",
       "      <td>3</td>\n",
       "      <td>Pride and Prejudice</td>\n",
       "      <td>janeausten sinc it immedi success in 1813, pri...</td>\n",
       "    </tr>\n",
       "    <tr>\n",
       "      <th>3</th>\n",
       "      <td>4</td>\n",
       "      <td>The Diary of a Young Girl</td>\n",
       "      <td>annefrank discov in the attic in which she spe...</td>\n",
       "    </tr>\n",
       "    <tr>\n",
       "      <th>4</th>\n",
       "      <td>5</td>\n",
       "      <td>Animal Farm</td>\n",
       "      <td>georgeorwel librarian' note: there is an alter...</td>\n",
       "    </tr>\n",
       "  </tbody>\n",
       "</table>\n",
       "</div>"
      ],
      "text/plain": [
       "   book_id                                      book  \\\n",
       "0        1                     To Kill a Mockingbird   \n",
       "1        2  Harry Potter and the Philosopher’s Stone   \n",
       "2        3                       Pride and Prejudice   \n",
       "3        4                 The Diary of a Young Girl   \n",
       "4        5                               Animal Farm   \n",
       "\n",
       "                                                tags  \n",
       "0  harperle the unforgett novel of a childhood in...  \n",
       "1  jkrowl harri potter think he is an ordinari bo...  \n",
       "2  janeausten sinc it immedi success in 1813, pri...  \n",
       "3  annefrank discov in the attic in which she spe...  \n",
       "4  georgeorwel librarian' note: there is an alter...  "
      ]
     },
     "execution_count": 35,
     "metadata": {},
     "output_type": "execute_result"
    }
   ],
   "source": [
    "df_final.head()"
   ]
  },
  {
   "cell_type": "markdown",
   "id": "e5300ead-dd5a-4801-8598-0619f3db33c2",
   "metadata": {},
   "source": [
    "A vetorização no contexto de processamento de linguagem natural (PLN) é o processo de converter texto em uma representação numérica, geralmente na forma de vetores. Este processo é fundamental para que algoritmos de aprendizado de máquina possam trabalhar com dados textuais, uma vez que eles requerem entradas numéricas."
   ]
  },
  {
   "cell_type": "code",
   "execution_count": 36,
   "id": "e9745c85-602f-4fcd-954d-2aae1bec259c",
   "metadata": {},
   "outputs": [],
   "source": [
    "# Cria o vetorizador com no máximo 5000 atributos\n",
    "\n",
    "common_words = ['the', 'be', 'to', 'of', 'and', 'a', 'in', 'that', 'have', 'I']\n",
    "\n",
    "cv = CountVectorizer(max_features = 15000, stop_words = common_words)"
   ]
  },
  {
   "cell_type": "code",
   "execution_count": 37,
   "id": "894e383c-8bbb-4166-b44e-d2e2cac5420a",
   "metadata": {},
   "outputs": [],
   "source": [
    "# Cria os vetores para as tags\n",
    "vectors = cv.fit_transform(df_final['tags']).toarray()"
   ]
  },
  {
   "cell_type": "code",
   "execution_count": 38,
   "id": "3423a659-1624-4e03-844b-ceba2dfb8ae5",
   "metadata": {},
   "outputs": [
    {
     "data": {
      "text/plain": [
       "15000"
      ]
     },
     "execution_count": 38,
     "metadata": {},
     "output_type": "execute_result"
    }
   ],
   "source": [
    "len(cv.get_feature_names_out())"
   ]
  },
  {
   "cell_type": "code",
   "execution_count": 39,
   "id": "439511cd-4765-4cf0-9981-57f15b3852ad",
   "metadata": {},
   "outputs": [
    {
     "data": {
      "text/plain": [
       "array([[0, 0, 0, ..., 0, 0, 0],\n",
       "       [0, 0, 0, ..., 0, 0, 0],\n",
       "       [0, 0, 0, ..., 0, 0, 0],\n",
       "       ...,\n",
       "       [0, 0, 0, ..., 0, 0, 0],\n",
       "       [0, 0, 0, ..., 0, 0, 0],\n",
       "       [0, 0, 0, ..., 0, 0, 0]], dtype=int64)"
      ]
     },
     "execution_count": 39,
     "metadata": {},
     "output_type": "execute_result"
    }
   ],
   "source": [
    "vectors"
   ]
  },
  {
   "cell_type": "markdown",
   "id": "145d2d1e-e3e8-4b52-995d-5821ca207d86",
   "metadata": {},
   "source": [
    "### <font color='red'>Parte 6: Distância de Vetores</font>"
   ]
  },
  {
   "cell_type": "code",
   "execution_count": 40,
   "id": "de275bd1-f198-491c-87e3-c5be1f598bef",
   "metadata": {},
   "outputs": [],
   "source": [
    "# Calcula a similaridade entre os vetores calculando as distâncias entre eles\n",
    "similaridades = cosine_similarity(vectors)"
   ]
  },
  {
   "cell_type": "markdown",
   "id": "b97dcd4f-2d02-4eec-8924-7a2baceafb4b",
   "metadata": {},
   "source": [
    "### <font color='red'>Parte 7: Construção do Sistema de Recomendação</font>"
   ]
  },
  {
   "cell_type": "code",
   "execution_count": 41,
   "id": "4ac4d0d2-d848-4b75-bf11-b23a08b87a42",
   "metadata": {},
   "outputs": [],
   "source": [
    "# Função para o sistema de recomendação\n",
    "def sistema_recomendacao(book):\n",
    "    \n",
    "    # Obtém o índice do filme passado como argumento (o que o usuário assistiu)\n",
    "    # Index[0] = significa que vai trazer apenas o primeiro elemento\n",
    "    index = df_final[df_final['book'] == book].index[0]\n",
    "    \n",
    "    # Verificamos então os filmes com vetores de menor distância para o filme passado como argumento\n",
    "    distances = sorted(list(enumerate(similaridades[index])), reverse = True, key = lambda x: x[1])\n",
    "    \n",
    "    # E então consideramos os 5 filmes com menor distância, ou seja, maior similaridade\n",
    "    for i in distances[1:6]:\n",
    "        print(df_final.iloc[i[0]]['book'])"
   ]
  },
  {
   "cell_type": "markdown",
   "id": "d2cf5f64-7a74-402f-b357-d0d558e8af16",
   "metadata": {},
   "source": [
    "### <font color='red'>Parte 8: Aplicando o Sistema de Recomendação</font>"
   ]
  },
  {
   "cell_type": "code",
   "execution_count": 42,
   "id": "863bfb44-c3ea-4d90-bafb-13f4f92c6f89",
   "metadata": {},
   "outputs": [],
   "source": [
    "# Ajustar configurações para mostrar texto completo\n",
    "pd.set_option('display.max_colwidth', None)\n",
    "\n",
    "# Ajustar configuração para exibir todas as linhas\n",
    "pd.set_option('display.max_rows', None)"
   ]
  },
  {
   "cell_type": "code",
   "execution_count": 43,
   "id": "2d20ee9b-549a-410b-b4e9-57d167bbb393",
   "metadata": {},
   "outputs": [
    {
     "name": "stdout",
     "output_type": "stream",
     "text": [
      "The Hobbit\n",
      "Oliver Twist\n",
      "Alice in Wonderland\n",
      "J.R.R. Tolkien 4-Book Boxed Set: The Hobbit and The Lord of the Rings\n",
      "The Life and Opinions of Tristram Shandy, Gentleman\n"
     ]
    }
   ],
   "source": [
    "sistema_recomendacao('The Hobbit')"
   ]
  },
  {
   "cell_type": "code",
   "execution_count": 44,
   "id": "11363dda-8829-4a03-8537-f4b0c17ceb5c",
   "metadata": {},
   "outputs": [
    {
     "name": "stdout",
     "output_type": "stream",
     "text": [
      "Harry Potter and the Goblet of Fire\n",
      "Harry Potter and the Half-Blood Prince\n",
      "Harry Potter and the Cursed Child: Parts One and Two\n",
      "Harry Potter and the Prisoner of Azkaban\n",
      "Harry Potter and the Order of the Phoenix\n"
     ]
    }
   ],
   "source": [
    "sistema_recomendacao('Harry Potter and the Philosopher’s Stone')"
   ]
  },
  {
   "cell_type": "code",
   "execution_count": 45,
   "id": "dad2aacd-b1e9-4b32-9399-aca9184db26c",
   "metadata": {},
   "outputs": [
    {
     "name": "stdout",
     "output_type": "stream",
     "text": [
      "Foundation and Earth\n",
      "Archer's Voice\n",
      "Too Loud a Solitude\n",
      "The Storied Life of A.J. Fikry\n",
      "The Arbitrator\n"
     ]
    }
   ],
   "source": [
    "sistema_recomendacao('1984')"
   ]
  },
  {
   "cell_type": "code",
   "execution_count": 46,
   "id": "a5927974-dc59-4418-bcf6-44be068150b5",
   "metadata": {},
   "outputs": [
    {
     "name": "stdout",
     "output_type": "stream",
     "text": [
      "The Fellowship of the Ring\n",
      "The Two Towers\n",
      "J.R.R. Tolkien 4-Book Boxed Set: The Hobbit and The Lord of the Rings\n",
      "The Children of Húrin\n",
      "Hitman: My Real Life in the Cartoon World of Wrestling\n"
     ]
    }
   ],
   "source": [
    "sistema_recomendacao('The Lord of the Rings')"
   ]
  },
  {
   "cell_type": "code",
   "execution_count": 47,
   "id": "a46aaf84-dc89-4969-95b1-b57ddb50c8cc",
   "metadata": {},
   "outputs": [
    {
     "name": "stdout",
     "output_type": "stream",
     "text": [
      "Harry Potter and the Order of the Phoenix\n",
      "River Secrets\n",
      "Harry Potter and the Chamber of Secrets\n",
      "Fool Moon\n",
      "Cold Days\n"
     ]
    }
   ],
   "source": [
    "sistema_recomendacao('Harry Potter and the Deathly Hallows')"
   ]
  },
  {
   "cell_type": "markdown",
   "id": "c1ee6e32",
   "metadata": {},
   "source": [
    "### <font color='red'>Sistema e Versões dos Pacotes</font>"
   ]
  },
  {
   "cell_type": "code",
   "execution_count": 48,
   "id": "e1a41f91-9658-4465-9b33-9c0411b8222c",
   "metadata": {},
   "outputs": [
    {
     "name": "stdout",
     "output_type": "stream",
     "text": [
      "Python implementation: CPython\n",
      "Python version       : 3.12.4\n",
      "IPython version      : 8.25.0\n",
      "\n",
      "Compiler    : MSC v.1929 64 bit (AMD64)\n",
      "OS          : Windows\n",
      "Release     : 10\n",
      "Machine     : AMD64\n",
      "Processor   : Intel64 Family 6 Model 186 Stepping 3, GenuineIntel\n",
      "CPU cores   : 12\n",
      "Architecture: 64bit\n",
      "\n",
      "streamlit : 1.32.0\n",
      "langdetect: 1.0.9\n",
      "numpy     : 1.26.4\n",
      "IPython   : 8.25.0\n",
      "sklearn   : 1.4.2\n",
      "nltk      : 3.8.1\n",
      "ipywidgets: 7.8.1\n",
      "pandas    : 2.2.2\n",
      "\n"
     ]
    }
   ],
   "source": [
    "%reload_ext watermark\n",
    "%watermark -v -m\n",
    "%watermark --iversions"
   ]
  }
 ],
 "metadata": {
  "kernelspec": {
   "display_name": "Python 3 (ipykernel)",
   "language": "python",
   "name": "python3"
  },
  "language_info": {
   "codemirror_mode": {
    "name": "ipython",
    "version": 3
   },
   "file_extension": ".py",
   "mimetype": "text/x-python",
   "name": "python",
   "nbconvert_exporter": "python",
   "pygments_lexer": "ipython3",
   "version": "3.12.4"
  }
 },
 "nbformat": 4,
 "nbformat_minor": 5
}
